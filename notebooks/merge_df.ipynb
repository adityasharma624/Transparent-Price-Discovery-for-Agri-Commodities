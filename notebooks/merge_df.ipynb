{
 "cells": [
  {
   "cell_type": "code",
   "execution_count": 4,
   "id": "2160664a",
   "metadata": {},
   "outputs": [],
   "source": [
    "import pandas as pd\n",
    "\n",
    "# Load the files\n",
    "buffer_df = pd.read_csv(\"../datasets/raw/agmarknet_punjab_tomato_buffer.csv\", parse_dates=['Reported Date'])\n",
    "main_df = pd.read_csv(\n",
    "    \"../datasets/raw/agmarknet_punjab_tomato_raw.csv\",\n",
    "    dtype={'Arrivals (Quintals)': 'float'},\n",
    "    parse_dates=['Reported Date'],\n",
    "    low_memory=False\n",
    ")\n",
    "\n",
    "# Concatenate the two\n",
    "merged_df = pd.concat([buffer_df, main_df], ignore_index=True)\n",
    "\n",
    "# Sort by date just to be sure\n",
    "merged_df.to_csv(\"../datasets/raw/agmarknet_punjab_tomato_raw.csv\", index=False, date_format=\"%Y-%m-%d\")"
   ]
  }
 ],
 "metadata": {
  "kernelspec": {
   "display_name": "Python 3",
   "language": "python",
   "name": "python3"
  },
  "language_info": {
   "codemirror_mode": {
    "name": "ipython",
    "version": 3
   },
   "file_extension": ".py",
   "mimetype": "text/x-python",
   "name": "python",
   "nbconvert_exporter": "python",
   "pygments_lexer": "ipython3",
   "version": "3.10.0"
  }
 },
 "nbformat": 4,
 "nbformat_minor": 5
}
