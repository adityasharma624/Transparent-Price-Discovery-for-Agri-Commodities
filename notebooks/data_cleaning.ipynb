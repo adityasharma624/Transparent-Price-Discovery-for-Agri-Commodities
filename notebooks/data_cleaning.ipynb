{
 "cells": [
  {
   "cell_type": "code",
   "execution_count": 23,
   "id": "e73487c8",
   "metadata": {},
   "outputs": [],
   "source": [
    "import pandas as pd\n",
    "import numpy as np\n",
    "df = pd.read_csv(\n",
    "    \"../datasets/raw/agmarknet_punjab_tomato_raw.csv\",\n",
    "    dtype={'Arrivals (Quintals)': 'float'},\n",
    "    parse_dates=['Reported Date'],\n",
    "    low_memory=False\n",
    ")\n"
   ]
  },
  {
   "cell_type": "code",
   "execution_count": 24,
   "id": "bba4222a",
   "metadata": {},
   "outputs": [],
   "source": [
    "rows_to_drop = df[df['State Name'] == '-'].index\n",
    "df.drop(rows_to_drop, inplace=True)\n",
    "df.drop(columns=['State Name', 'District Name', 'Market Name', 'Variety', 'Group'], inplace=True)"
   ]
  },
  {
   "cell_type": "code",
   "execution_count": 25,
   "id": "eb62790a",
   "metadata": {},
   "outputs": [],
   "source": [
    "df[\"Min Price (Rs./Quintal)\"] = df[\"Min Price (Rs./Quintal)\"].str.replace(\",\", \"\").astype(float)\n",
    "df[\"Max Price (Rs./Quintal)\"] = df[\"Max Price (Rs./Quintal)\"].str.replace(\",\", \"\").astype(float)\n",
    "df[\"Modal Price (Rs./Quintal)\"] = df[\"Modal Price (Rs./Quintal)\"].str.replace(\",\", \"\").astype(float)\n",
    "df[\"Reported Date\"] = pd.to_datetime(df[\"Reported Date\"], format=\"%Y-%m-%d\")\n",
    "df[\"Arrivals (Tonnes)\"] = df[\"Arrivals (Tonnes)\"].str.replace(\",\", \"\").astype(float)\n",
    "df[\"Arrivals (Tonnes)\"] = df[\"Arrivals (Tonnes)\"]*10\n",
    "df.rename(columns={\"Arrivals (Tonnes)\": \"Arrivals (Quintals)\"}, inplace=True)"
   ]
  },
  {
   "cell_type": "code",
   "execution_count": 26,
   "id": "9e4defaa",
   "metadata": {},
   "outputs": [],
   "source": [
    "df.rename(columns={\n",
    "    \"Min Price (Rs./Quintal)\": \"min_price\",\n",
    "    \"Max Price (Rs./Quintal)\": \"max_price\",\n",
    "    \"Modal Price (Rs./Quintal)\": \"modal_price\",\n",
    "    \"Arrivals (Quintals)\": \"arrivals\",\n",
    "    \"Reported Date\": \"date\"\n",
    "}, inplace=True)"
   ]
  },
  {
   "cell_type": "code",
   "execution_count": 27,
   "id": "9dcdd9f8",
   "metadata": {},
   "outputs": [],
   "source": [
    "df['weighted_modal'] = df['arrivals'] * df['modal_price']\n",
    "df['price_range'] = df['max_price'] - df['min_price']"
   ]
  },
  {
   "cell_type": "code",
   "execution_count": 28,
   "id": "c2a4e37d",
   "metadata": {},
   "outputs": [],
   "source": [
    "daily = df.groupby('date').agg({\n",
    "    'arrivals': 'sum',\n",
    "    'min_price': 'min',\n",
    "    'max_price': 'max',\n",
    "    'weighted_modal': 'sum',\n",
    "    'price_range': 'mean'\n",
    "}).reset_index()\n",
    "\n",
    "daily['modal_price'] = daily['weighted_modal'] / daily['arrivals']\n",
    "daily = daily.drop(columns=['weighted_modal'])"
   ]
  },
  {
   "cell_type": "code",
   "execution_count": null,
   "id": "16565144",
   "metadata": {},
   "outputs": [],
   "source": [
    "# # for tomato dataset\n",
    "# missing_row = pd.DataFrame({\n",
    "#     'date': [pd.to_datetime('2023-08-06')],\n",
    "#     'arrivals': [np.nan], \n",
    "#     'min_price': [np.nan],\n",
    "#     'max_price': [np.nan],\n",
    "#     'price_range': [np.nan],\n",
    "#     'modal_price': [np.nan]\n",
    "# })\n",
    "\n",
    "# daily = pd.concat([daily, missing_row], ignore_index=True)\n",
    "# daily = daily.sort_values('date').reset_index(drop=True)\n",
    "# daily[['arrivals', 'min_price', 'max_price', 'price_range', 'modal_price']] = daily[\n",
    "#     ['arrivals', 'min_price', 'max_price', 'price_range', 'modal_price']\n",
    "# ].ffill()"
   ]
  },
  {
   "cell_type": "code",
   "execution_count": 30,
   "id": "4b75c60c",
   "metadata": {},
   "outputs": [],
   "source": [
    "daily['year'] = daily['date'].dt.year\n",
    "daily['month'] = daily['date'].dt.month\n",
    "daily['day_of_week'] = daily['date'].dt.dayofweek"
   ]
  },
  {
   "cell_type": "code",
   "execution_count": 31,
   "id": "94ddab36",
   "metadata": {},
   "outputs": [],
   "source": [
    "daily['lagged_price_7'] = daily['modal_price'].shift(7)\n",
    "daily['lagged_price_30'] = daily['modal_price'].shift(30)\n",
    "daily['rolling_mean_7'] = daily['modal_price'].shift(1).rolling(7).mean()\n",
    "daily['rolling_mean_30'] = daily['modal_price'].shift(1).rolling(30).mean()\n",
    "daily['exp_smooth'] = daily['modal_price'].shift(1).ewm(span=7, adjust=False).mean()\n",
    "daily['price_change'] = daily['modal_price'].pct_change(fill_method=None).shift(1) * 100\n",
    "daily['log_modal'] = np.log1p(daily['modal_price'])\n",
    "mean_7 = daily['modal_price'].shift(1).rolling(7).mean()\n",
    "std_7 = daily['modal_price'].shift(1).rolling(7).std()\n",
    "daily['z_score_7_rolling'] = (daily['modal_price'] - mean_7) / std_7"
   ]
  },
  {
   "cell_type": "code",
   "execution_count": 32,
   "id": "6d95e6c8",
   "metadata": {},
   "outputs": [],
   "source": [
    "daily = daily.dropna().reset_index(drop=True)\n",
    "daily = daily[daily['date'] >= pd.to_datetime('2020-01-01')]"
   ]
  },
  {
   "cell_type": "code",
   "execution_count": 33,
   "id": "0b8a714d",
   "metadata": {},
   "outputs": [],
   "source": [
    "daily.to_csv(\"../datasets/processed/agmarknet_punjab_tomato.csv\", index=False)"
   ]
  }
 ],
 "metadata": {
  "kernelspec": {
   "display_name": "Python 3",
   "language": "python",
   "name": "python3"
  },
  "language_info": {
   "codemirror_mode": {
    "name": "ipython",
    "version": 3
   },
   "file_extension": ".py",
   "mimetype": "text/x-python",
   "name": "python",
   "nbconvert_exporter": "python",
   "pygments_lexer": "ipython3",
   "version": "3.10.0"
  }
 },
 "nbformat": 4,
 "nbformat_minor": 5
}
