{
 "cells": [
  {
   "cell_type": "code",
   "execution_count": 1,
   "id": "bf4589b1",
   "metadata": {},
   "outputs": [],
   "source": [
    "import requests\n",
    "import pandas as pd\n",
    "from bs4 import BeautifulSoup\n",
    "from datetime import datetime, timedelta"
   ]
  },
  {
   "cell_type": "code",
   "execution_count": null,
   "id": "d7027a59",
   "metadata": {},
   "outputs": [],
   "source": [
    "HEADERS = ['State Name', 'District Name', 'Market Name', 'Variety', 'Group', 'Arrivals (Tonnes)', 'Min Price (Rs./Quintal)', 'Max Price (Rs./Quintal)', 'Modal Price (Rs./Quintal)', 'Reported Date']\n",
    "df = pd.DataFrame(columns=HEADERS)\n",
    "\n",
    "start = datetime(2020, 1, 1)\n",
    "end = datetime(2025, 2, 17)\n",
    "delta = timedelta(days=1)\n",
    "\n",
    "while (start <= end):\n",
    "    url = \"https://agmarknet.gov.in/SearchCmmMkt.aspx?Tx_Commodity=78&Tx_State=PB&Tx_District=0&Tx_Market=0&DateFrom={date}&DateTo={date}&Fr_Date={date}&To_Date={date}&Tx_Trend=2&Tx_CommodityHead=Tomato&Tx_StateHead=Punjab&Tx_DistrictHead=--Select--&Tx_MarketHead=--Select--\".format(date=start.strftime(\"%d-%b-%Y\"))\n",
    "    response = requests.get(url)\n",
    "    soup = BeautifulSoup(response.content, \"html.parser\")\n",
    "    table = soup.find(\"table\", class_=\"tableagmark_new\")\n",
    "    if table is None:\n",
    "        print(f\"No data found for {start.strftime('%d-%b-%Y')}\")\n",
    "        start += delta\n",
    "        continue\n",
    "    rows = []\n",
    "    for row in table.find_all(\"tr\"):\n",
    "        cells = []\n",
    "        for td in row.find_all(\"td\"):\n",
    "            cells.append(td.text.strip())\n",
    "        if cells:\n",
    "            rows.append(cells)\n",
    "    \n",
    "    for row in rows:\n",
    "        if len(row) == 10:\n",
    "            df.loc[len(df)] = row\n",
    "        \n",
    "    start += delta"
   ]
  },
  {
   "cell_type": "code",
   "execution_count": 8,
   "id": "81a48c7d",
   "metadata": {},
   "outputs": [],
   "source": [
    "df['Reported Date'] = pd.to_datetime(df['Reported Date'], format='%d %b %Y', errors='coerce')"
   ]
  },
  {
   "cell_type": "code",
   "execution_count": 10,
   "id": "5919c0b4",
   "metadata": {},
   "outputs": [],
   "source": [
    "df.to_csv('../datasets/raw/agmarknet_punjab_potato_raw.csv', index=False, header=True)"
   ]
  }
 ],
 "metadata": {
  "kernelspec": {
   "display_name": "Python 3",
   "language": "python",
   "name": "python3"
  },
  "language_info": {
   "codemirror_mode": {
    "name": "ipython",
    "version": 3
   },
   "file_extension": ".py",
   "mimetype": "text/x-python",
   "name": "python",
   "nbconvert_exporter": "python",
   "pygments_lexer": "ipython3",
   "version": "3.10.0"
  }
 },
 "nbformat": 4,
 "nbformat_minor": 5
}
